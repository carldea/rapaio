{
 "cells": [
  {
   "cell_type": "code",
   "execution_count": 1,
   "metadata": {
    "collapsed": true
   },
   "outputs": [],
   "source": [
    "%jars /home/ati/work/out/artifacts/rapaio_jar/rapaio.jar /home/ati/work/out/artifacts/rapaio_jar/fastutil-8.2.3.jar"
   ]
  },
  {
   "cell_type": "markdown",
   "metadata": {},
   "source": [
    "## 1. Variables, frames and data manipulation\n",
    "\n",
    "There are two main data structures used all over the place: variables and frames. A variable is a list of values of the same type. You can think of a variable as a column in a tabular data format. A set of variables is a data frame. You can think about a frame as a table, with rows for observations and columns for variables.\n",
    "\n",
    "Let's take a simple example. We will load the iris data set, which is already contained in the library."
   ]
  },
  {
   "cell_type": "code",
   "execution_count": 2,
   "metadata": {
    "collapsed": true
   },
   "outputs": [],
   "source": [
    "import rapaio.data.*;\n",
    "import rapaio.datasets.*;\n",
    "import rapaio.core.distributions.*;\n",
    "import rapaio.sys.*;\n",
    "\n",
    "import java.util.stream.*"
   ]
  },
  {
   "cell_type": "code",
   "execution_count": 3,
   "metadata": {},
   "outputs": [
    {
     "data": {
      "text/plain": [
       "rapaio.printer.standard.StandardPrinter@3cf0fe4d"
      ]
     },
     "execution_count": 3,
     "metadata": {},
     "output_type": "execute_result"
    }
   ],
   "source": [
    "WS.getPrinter().withTextWidth(110);"
   ]
  },
  {
   "cell_type": "code",
   "execution_count": 4,
   "metadata": {},
   "outputs": [
    {
     "name": "stdout",
     "output_type": "stream",
     "text": [
      "Frame Summary\n",
      "=============\n",
      "* rowCount: 150\n",
      "* complete: 150/150\n",
      "* varCount: 5\n",
      "* varNames: \n",
      "\n",
      "0. sepal-length : double  | 3.  petal-width : double  | \n",
      "1.  sepal-width : double  | 4.        class : nominal | \n",
      "2. petal-length : double  | \n",
      "\n",
      "   sepal-length      sepal-width     petal-length      petal-width            class \n",
      "   Min. : 4.300     Min. : 2.000     Min. : 1.000     Min. : 0.100      setosa : 50 \n",
      "1st Qu. : 5.100  1st Qu. : 2.800  1st Qu. : 1.600  1st Qu. : 0.300  versicolor : 50 \n",
      " Median : 5.800   Median : 3.000   Median : 4.350   Median : 1.300   virginica : 50 \n",
      "   Mean : 5.843     Mean : 3.057     Mean : 3.758     Mean : 1.199                  \n",
      "2nd Qu. : 6.400  2nd Qu. : 3.300  2nd Qu. : 5.100  2nd Qu. : 1.800                  \n",
      "   Max. : 7.900     Max. : 4.400     Max. : 6.900     Max. : 2.500                  \n",
      "                                                                                    \n",
      "\n"
     ]
    }
   ],
   "source": [
    "Frame df = Datasets.loadIrisDataset();\n",
    "df.printSummary();"
   ]
  },
  {
   "cell_type": "markdown",
   "metadata": {},
   "source": [
    "Frame summary is a simple way to see some general information about a data frame. We see the data frame contains $150$ observations. The data set contains $5$ variables.\n",
    "\n",
    "The listing continues with enumerating the name and type of the variables contained in a data frame. Notice that there are four double variables and one nominal variable, named `class`.\n",
    "\n",
    "The summary listing ends with a section which describes each variable. For double variables the summary contains $6$ number summary. These are some sample order statistics and sample mean. We have there the minimum and maximum, median, first and third quartile and the mean. For nominal values we have an enumeration of the first most frequent levels and the associated counts. For our `class` variable we see that there are three levels, each with $50$ instances."
   ]
  },
  {
   "cell_type": "markdown",
   "metadata": {},
   "source": [
    "### 1.1 Variables\n",
    "\n",
    "In statistics a variable has multiple meanings. A random variable is a process which produces values according to a distribution. Random variables can have multiple dimensions, so they can be grouped in vectors. The rapaio library does not model the concept of random variable. Instead the `Var` objects models the concept of values drawn from a unidimensional random variable, in other words a sample of values. As a consequence a `Var` object has a size and uses indexes to access the values from the sample. \n",
    "\n",
    "A rapaio variable is a vector of values which have the same type and shares the same meaning. Each variable implements an interface called `Var`. Interface `Var` implements various useful methods for various kinds of tasks:\n",
    "\n",
    "* _manipulate values_ from the variable by adding, removing, inserting and updating with different representations\n",
    "* _naming_ a variable offers an alternate way to identify a variable into a frame and it is also useful for nice output information\n",
    "* _manipulate sets of values_ by allowing variables concatenation by binding rows and filter out values by mapping\n",
    "* _streaming_ allows traversal of variables by java 8 streams\n",
    "* other tools like deep copy, deep compare, summary, etc\n",
    "\n",
    "#### 1.1.1 VarType: storage and representation of a variable\n",
    "\n",
    "There are two main concepts which have to be understood when working with variables: **storage** and **representation**. All the variables are able to store data inside using a certain Java data type, for example `double`, `int`, `String`, etc. One variable can use for storage and internal manipulations a single Java data type. In the same time, the data from variables can be represented in different ways, all of them being available through the `Var` interface for all types of variables.\n",
    "\n",
    "However not all the representations are possible for all types of variables, because some of them does not make sense. For example double floating values can be represented as strings, which is fine, however strings in general cannot be represented as double values.\n",
    "\n",
    "These are the following data representations all the `Var`-iables can implement:\n",
    "\n",
    "* **double** - double\n",
    "* **label** - String\n",
    "* **int** - int\n",
    "* **long** - long / Instant\n",
    "\n",
    "The `Var` interface offers methods to get/update/insert values for all those data representations. Again, notice that not all data representations are available for all variables. For example the label representation is available for all sort of variables. This is acceptable, since when storing information into a text-like data format, any data type should be transformed into a string and should be read from a string representation.\n",
    "\n",
    "To accomodate all those legal possibilities, the rapaio library has a set of predefined variable types, which can be found in the enum `VarType`.\n",
    "\n",
    "The defined variable types:\n",
    "\n",
    "* **BINARY** - binary values\n",
    "* **INT** - integer values\n",
    "* **NOMINAL** - string values from a predefined set of values, with no ordering \\(for example: _male_, _female_\\)\n",
    "* **DOUBLE** - double precision floating point values\n",
    "* **LONG** - time related variables\n",
    "* **TEXT** - strings with free form\n",
    "\n",
    "A data type is important for the following reasons:\n",
    "\n",
    "* gives a certain useful meaning for variables in such a way that machine learning or statistical algorithms can leverage to maximum potential the meta information about variables\n",
    "* encapsulates the stored data type artifacts and hide those details from the user, while allowing the usage of a single unitar interface for all variables\n"
   ]
  },
  {
   "cell_type": "markdown",
   "metadata": {},
   "source": [
    "#### 1.1.2 Numeric double variables\n",
    "\n",
    "Numeric double variables are defined by`VarDouble`and contains discrete or continuous numerical values stored as double precision float values. Double variables offers value and label representations. All other representations can be used, but with caution since it can alter the content. For example int representation truncates floating point values to the biggest integer values, however the int setter sets a correct value since an integer can be converted to a double.\n",
    "\n",
    "##### 1.1.2.1 Various builders\n",
    "\n",
    "Double variables can be built in various was and are handy shortcuts for various scenarios.\n",
    "\n",
    "**Empty variables**"
   ]
  },
  {
   "cell_type": "code",
   "execution_count": 5,
   "metadata": {
    "collapsed": true
   },
   "outputs": [],
   "source": [
    "// builds a variable with no data\n",
    "Var empty1 = VarDouble.empty();\n",
    "\n",
    "// builds a variable of a given size which contains only missing data\n",
    "Var empty2 = VarDouble.empty(100);"
   ]
  },
  {
   "cell_type": "markdown",
   "metadata": {},
   "source": [
    "**Scalar variables**"
   ]
  },
  {
   "cell_type": "code",
   "execution_count": 6,
   "metadata": {
    "collapsed": true
   },
   "outputs": [],
   "source": [
    "Var scalar = VarDouble.scalar(Math.PI);"
   ]
  },
  {
   "cell_type": "markdown",
   "metadata": {},
   "source": [
    "**Sequence of values**"
   ]
  },
  {
   "cell_type": "code",
   "execution_count": 7,
   "metadata": {
    "collapsed": true
   },
   "outputs": [],
   "source": [
    "// a sequence of numbers, starting from 0, ending with 5 with step 1\n",
    "Var seq1 = VarDouble.seq(5);\n",
    "\n",
    "// a sequence of numbers, starting from 1, ending with 5 with step 1\n",
    "Var seq2 = VarDouble.seq(1, 5);\n",
    "\n",
    "// a sequence of numbers starting at 0, ending at 1 with step 0.1\n",
    "Var seq3 = VarDouble.seq(0, 1, 0.1);"
   ]
  },
  {
   "cell_type": "markdown",
   "metadata": {},
   "source": [
    "**Variables filled with the same number**"
   ]
  },
  {
   "cell_type": "code",
   "execution_count": 8,
   "metadata": {
    "collapsed": true
   },
   "outputs": [],
   "source": [
    "// build a variable of a given size which contains only zeros\n",
    "Var fill1 = VarDouble.fill(5);\n",
    "\n",
    "// builds a variable of a given size which contains only ones\n",
    "Var fill2 = VarDouble.fill(5, 1);"
   ]
  },
  {
   "cell_type": "markdown",
   "metadata": {},
   "source": [
    "**Copy from another source**"
   ]
  },
  {
   "cell_type": "code",
   "execution_count": 9,
   "metadata": {
    "collapsed": true
   },
   "outputs": [],
   "source": [
    "// numeric variable which contains the values copied from another variable\n",
    "Var copy1 = VarDouble.copy(seq1);\n",
    "\n",
    "// numeric variable with values copied from a collection\n",
    "Normal normal = Normal.std();\n",
    "List<Double> list1 = DoubleStream.generate(normal::sampleNext)\n",
    ".limit(10)\n",
    ".boxed()\n",
    ".collect(Collectors.toList());\n",
    "Var copy2 = VarDouble.copy(list1);\n",
    "\n",
    "// numeric variable with values copied from a double array\n",
    "Var copy3 = VarDouble.copy(1, 3, 4.0, 7);\n",
    "\n",
    "// numeric variable with values copied from an int array\n",
    "Var copy4 = VarDouble.copy(1, 3, 4, 7);"
   ]
  },
  {
   "cell_type": "markdown",
   "metadata": {},
   "source": [
    "**Generated using a lambda function**"
   ]
  },
  {
   "cell_type": "code",
   "execution_count": 10,
   "metadata": {
    "collapsed": true
   },
   "outputs": [],
   "source": [
    "// numeric variables with values generated as the sqrt of the row number\n",
    "Var from1 = VarDouble.from(10, Math::sqrt);\n",
    "\n",
    "// numeric variable with values generated using a function which receives a row value\n",
    "// as parameter and outputs a double value; in this case we generate values as\n",
    "// a sum of the values of other two variables\n",
    "Var from2 = VarDouble.from(4, row -> copy3.getDouble(row) + copy4.getDouble(row));\n",
    "\n",
    "// numeric variable with values generated from values of another variable using\n",
    "// a transformation provided via a lambda function\n",
    "Var from3 = VarDouble.from(from1, x -> x + 1);"
   ]
  },
  {
   "cell_type": "markdown",
   "metadata": {},
   "source": [
    "**Wrapper around a double array**\n",
    "This builder creates a new numeric variable instance as a wrapper around a double array of values. Notice that it is not the same as the copy builder, since in the wrapper case any change in the new numerical variable is reflected also in the original array of numbers. In the case of the copy builder this is not true, since the copy builder \\(as its name implies\\) creates an internal copy of the array.\n"
   ]
  },
  {
   "cell_type": "code",
   "execution_count": 11,
   "metadata": {
    "collapsed": true
   },
   "outputs": [],
   "source": [
    "double[] src = new double[] {1, 4, 19, 23, 5};\n",
    "Var wrap1 = VarDouble.wrap(src);"
   ]
  },
  {
   "cell_type": "markdown",
   "metadata": {},
   "source": [
    "##### 1.1.2.2 Inspect a numerical variable\n",
    "\n",
    "Most of the objects which contains information implements the `Printable` interface. This interface allows one to display a summary of the content of the given object. This is the case also with the numerical variables. Additionally, the numerical variables implements also two other methods, one which displays all the values and another one which displays only the first values."
   ]
  },
  {
   "cell_type": "code",
   "execution_count": 14,
   "metadata": {},
   "outputs": [
    {
     "name": "stdout",
     "output_type": "stream",
     "text": [
      "VarDouble [name:\"x\", rowCount:30]\n",
      "row    value   row    value   row    value   row    value   row    value   \n",
      " [0] 0          [6] 2.4494897 [12] 3.4641016 [18] 4.2426407 [24] 4.8989795 \n",
      " [1] 1          [7] 2.6457513 [13] 3.6055513 [19] 4.3588989 [25] 5         \n",
      " [2] 1.4142136  [8] 2.8284271 [14] 3.7416574 [20] 4.472136  [26] 5.0990195 \n",
      " [3] 1.7320508  [9] 3         [15] 3.8729833 [21] 4.5825757 [27] 5.1961524 \n",
      " [4] 2         [10] 3.1622777 [16] 4         [22] 4.6904158 [28] 5.2915026 \n",
      " [5] 2.236068  [11] 3.3166248 [17] 4.1231056 [23] 4.7958315 [29] 5.3851648 \n",
      "\n",
      "VarDouble [name:\"x\", rowCount:30]\n",
      "row    value   row    value   row    value   row    value   row    value   \n",
      " [0] 0          [6] 2.4494897 [12] 3.4641016 [18] 4.2426407 [24] 4.8989795 \n",
      " [1] 1          [7] 2.6457513 [13] 3.6055513 [19] 4.3588989 [25] 5         \n",
      " [2] 1.4142136  [8] 2.8284271 [14] 3.7416574 [20] 4.472136  [26] 5.0990195 \n",
      " [3] 1.7320508  [9] 3         [15] 3.8729833 [21] 4.5825757 [27] 5.1961524 \n",
      " [4] 2         [10] 3.1622777 [16] 4         [22] 4.6904158 [28] 5.2915026 \n",
      " [5] 2.236068  [11] 3.3166248 [17] 4.1231056 [23] 4.7958315 [29] 5.3851648 \n",
      "\n",
      "> printSummary(var: x)\n",
      "name: x\n",
      "type: DOUBLE\n",
      "rows: 30, complete: 30, missing: 0\n",
      "   Min. : 0.000\n",
      "1st Qu. : 2.691\n",
      " Median : 3.807\n",
      "   Mean : 3.554\n",
      "2nd Qu. : 4.663\n",
      "   Max. : 5.385\n",
      "\n"
     ]
    }
   ],
   "source": [
    "// build a numerical variable with values as the sqrt\n",
    "// of the first 30 integer values\n",
    "Var x = VarDouble.from(30, Math::sqrt).withName(\"x\");\n",
    "\n",
    "// print a reasonable part of value\n",
    "x.printContent();\n",
    "\n",
    "// print all values of the variable\n",
    "x.printFullContent();\n",
    "\n",
    "// print a summary of the content of the variable\n",
    "x.printSummary();"
   ]
  },
  {
   "cell_type": "code",
   "execution_count": null,
   "metadata": {
    "collapsed": true
   },
   "outputs": [],
   "source": []
  }
 ],
 "metadata": {
  "kernelspec": {
   "display_name": "Java",
   "language": "java",
   "name": "java"
  },
  "language_info": {
   "codemirror_mode": "java",
   "file_extension": ".jshell",
   "mimetype": "text/x-java-source",
   "name": "Java",
   "pygments_lexer": "java",
   "version": "11.0.2+9-LTS"
  }
 },
 "nbformat": 4,
 "nbformat_minor": 2
}
