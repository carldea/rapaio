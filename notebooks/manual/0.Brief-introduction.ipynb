{
 "cells": [
  {
   "cell_type": "markdown",
   "metadata": {},
   "source": [
    "## Rapaio Manual of Usage\n",
    "\n",
    "This collection of notebooks presents features of the rapaio library. Rapaio library is a statistics, data mining and machine learning library written in Java. The presented material is organized in jupyter notebooks.\n",
    "\n",
    "_This book is a continuous work in progress. Please give feedback. I would also love to drop some comments or suggestions on text._\n"
   ]
  },
  {
   "cell_type": "markdown",
   "metadata": {},
   "source": [
    "## Information about how to run notebooks\n",
    "\n",
    "I use the excelent Jupyter Kernel called IJava. You can find it here: __[https://github.com/SpencerPark/IJava](https://github.com/SpencerPark/IJava)__. \n",
    "\n",
    "For me the instructions presented in section *Install from sources* worked like a charm and after I configured the kernel to take more memory I simply launched the jupyter-lab. I will not dig into how to configure these tools, the information contained in IJava github home should be more than enough. "
   ]
  },
  {
   "cell_type": "code",
   "execution_count": null,
   "metadata": {},
   "outputs": [],
   "source": []
  },
  {
   "cell_type": "code",
   "execution_count": null,
   "metadata": {},
   "outputs": [],
   "source": []
  }
 ],
 "metadata": {
  "kernelspec": {
   "display_name": "Java",
   "language": "java",
   "name": "java"
  },
  "language_info": {
   "codemirror_mode": "java",
   "file_extension": ".java",
   "mimetype": "text/x-java-source",
   "name": "Java",
   "pygments_lexer": "java",
   "version": "10.0.2+13"
  }
 },
 "nbformat": 4,
 "nbformat_minor": 2
}
