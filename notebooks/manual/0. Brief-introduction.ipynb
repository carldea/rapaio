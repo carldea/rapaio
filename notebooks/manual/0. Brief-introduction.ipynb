{
 "cells": [
  {
   "cell_type": "markdown",
   "metadata": {},
   "source": [
    "## Rapaio Manual of Usage\n",
    "\n",
    "This collection of notebooks presents features of the rapaio library. Rapaio library is a statistics, data mining and machine learning library written in Java. The presented material is organized in jupyter notebooks.\n",
    "\n",
    "_This book is a continuous work in progress. Please give feedback. I would also love to drop some comments or suggestions on text._\n"
   ]
  },
  {
   "cell_type": "markdown",
   "metadata": {},
   "source": [
    "## Information about how to run notebooks\n",
    "\n",
    "I use the excelent Jupyter Kernel called IJava. You can find it here: __[https://github.com/SpencerPark/IJava](https://github.com/SpencerPark/IJava)__. \n",
    "\n",
    "For me the instructions presented in section *Install from sources* worked like a charm and after I configured the kernel to take more memory I simply launched the jupyter-lab. I will not dig into how to configure these tools, the information contained in IJava github home should be more than enough. "
   ]
  },
  {
   "cell_type": "markdown",
   "metadata": {},
   "source": [
    "## Why another library for statistics and machine learning?\n",
    "\n",
    "There are a lot of software stacks out there, which provides plenty of nicely crafted tools for statistics, machine learning, data mining or pattern recognition. Many of them are available as open source, quality is high and they are full of reach features.\n",
    "\n",
    "We have *R* which is a standard even for companies these days. *R* provides a language, an interactive data analysis workbench and solid visualization. *R* also incorporates the experience of many sound scientists who contributed to it.\n",
    "\n",
    "There are Python stacks, which benefits from the fact that Python is a simple and elegant language and works excellent like a glue language. We have *numpy*, *scipy*, *scikit-learn* and plenty of other things. There is also *matplotlib* which is beautiful and flexible. There is also *IPython* which gives to the interactive analysis a new dimension.\n",
    "\n",
    "There are also some other tools with different purposes or principles, like *Weka*, *Shogun*, *Spark* with *MLib* and so on. Some of them are have a lot of implemented algorithms. Some of them leverage distributed computation. Some of them exploits GPUs or other types of grids. And so on.\n",
    "\n",
    "That being said, it appears like a legitimate question to ask \"*Why another library for statistics and machine learning?*\". Socrates said that \"*understanding a question is half of an answer*\". In our case the question would be complete if we append it with context. It now becomes: \"*Why another library for statistics and machine learning, when there are many available already?*\". Thus, a new question arises: why so many libraries out there?. My answer is: because none of them covers the taste and needs of everybody.\n",
    "\n",
    "Some reasons which provide motivation for this library are:\n",
    "* I love *R*. I like functional paradigms, but I do not believe that the *R* language, like it is now, is something which I really want to program in for a long time. Take for example the error handling.\n",
    "* I love Python for its simplicity and elegance. However there are two main things which I really do not like. If you want something to work with, you have to have an almost complete operating system. Perhaps, this is because Python is *really* good as glue language. This advantage comes to a price. And this price is a plethora of things required. I know, these days things like binder are so common that helps you solve the problem. But I do not like to have to solve the problem from the beginning. But more than that, I really hate things like *making a graph shown in a window of a given size can be done in too many ways, many of them undocumented and hackish*. And I really want a language with full and intelligent auto-complete, at any time. I prefer to memorize ideas rather syntax. \n",
    "* I like *Weka* for its plenty of implementations. But I really do not like the standard Java way of doing things. There are no short methods. And by the way, not all implementations are complete (and the same thing can be said for Python stack).\n",
    "* The last but not least, I would really love to have an environment, a box for with plenty of tools, which can be extended, which allows me to experiment, study and learn. And if you join, you can do it also.\n",
    "\n",
    "## Prerequisites\n",
    "\n",
    "Rapaio library is written in Java. Since this is a continuous work in progress, the best way to use the library is to have the source code and use it locally. Of course, this is not the only possibility. One can get the published releases and use only the compiled artifacts. A list of published releases is [on github](https://github.com/padreati/rapaio/releases).\n",
    "\n",
    "As far as I understand, one can commit code for a github project in two ways.\n",
    "The first one is to clone a project you like and the second one is to commit\n",
    "directly into a project which either you own or you collaborate on.\n",
    "\n",
    "Either way you have to get a link from github to the project. In case of collaboration, the direct link to rapaio project is `https://github.com/padreati/rapaio.git`. For a cloned repository you would get a link like `https://github.com/your_user_name/rapaio`, where *your_user_name* is your user name (sic!).\n",
    "\n",
    "Rapaio library depends only on two external libraries. It depends on JUnit for unit testing and it depends on fastutil for working (in some places) with Java collections over value types. You can find more details on fastutil library here: __[http://fastutil.di.unimi.it/](http://fastutil.di.unimi.it/)__"
   ]
  }
 ],
 "metadata": {
  "kernelspec": {
   "display_name": "Java",
   "language": "java",
   "name": "java"
  },
  "language_info": {
   "codemirror_mode": "java",
   "file_extension": ".jshell",
   "mimetype": "text/x-java-source",
   "name": "Java",
   "pygments_lexer": "java",
   "version": "11.0.2+9-LTS"
  }
 },
 "nbformat": 4,
 "nbformat_minor": 2
}
