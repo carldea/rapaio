{
 "cells": [
  {
   "cell_type": "markdown",
   "metadata": {},
   "source": [
    "## 4. Core statistical tools\n",
    "\n",
    "Rapaio library builds it's machine learning and data mining approach from a statistical perspective. As such, the library provides the following set of features:\n",
    "\n",
    "* generate samples from a set of common distributions\n",
    "* evaluate pdf, cdf, quantile for a common set of distributions\n",
    "* standard hypothesis testing\n",
    "* core statistical procedures on samples like mean and variance\n",
    "* correlation coefficients computations\n",
    "\n"
   ]
  },
  {
   "cell_type": "code",
   "execution_count": 1,
   "metadata": {
    "collapsed": true
   },
   "outputs": [],
   "source": [
    "%jars /home/ati/work/out/artifacts/rapaio_jar/rapaio.jar /home/ati/work/out/artifacts/rapaio_jar/fastutil-8.2.3.jar"
   ]
  },
  {
   "cell_type": "code",
   "execution_count": 2,
   "metadata": {
    "collapsed": true
   },
   "outputs": [],
   "source": [
    "import rapaio.datasets.*;\n",
    "import rapaio.data.*;\n",
    "import rapaio.sys.*;\n",
    "import rapaio.graphics.*;\n",
    "import rapaio.graphics.plot.*;\n",
    "import static rapaio.graphics.Plotter.*;\n",
    "import rapaio.io.*;\n",
    "import rapaio.core.distributions.*;\n",
    "import rapaio.core.*;\n",
    "import rapaio.core.tests.*;\n",
    "import rapaio.core.tools.*;\n",
    "import rapaio.core.stat.*;\n"
   ]
  },
  {
   "cell_type": "code",
   "execution_count": 8,
   "metadata": {},
   "outputs": [
    {
     "data": {
      "text/plain": [
       "rapaio.printer.standard.StandardPrinter@68ac143f"
      ]
     },
     "execution_count": 8,
     "metadata": {},
     "output_type": "execute_result"
    }
   ],
   "source": [
    "WS.getPrinter().withGraphicShape(600,400);\n",
    "WS.getPrinter().withTextWidth(110);"
   ]
  },
  {
   "cell_type": "markdown",
   "metadata": {},
   "source": [
    "### 4.1 Distributions\n",
    "\n",
    "Statistics work with the concept or random variable. We can imagine a random variable like a process which generates numbers but we do not know precisely the generated value. This analogy works fine, even when we think at observing something. Let work that by an example.\n",
    "\n",
    "Imagine that we measure the heights of some men from a given place. We notice and collect some values. We might ask which is the process that generated the heights? Since we measured something, but the values are out of our control, the question is legitimate. The answer is the total number of factors which influenced the height of a men, including genes, culture, climate, longitude and latitude, and so on. All those imaginable factors together can be seen as a process which determines the heights.\n",
    "\n",
    "Now we identified which is the process. The next legitimate question is why random? Since there are a lot of factors inside the process, we usually are in the situation where we don't understand the underlying mechanics of the process. This can happen because we did not identified all the determinant factors. This can also happen simply because it is too complex. And there are also cases when we simply do not want or can't understand. Because of that we simply can't determine precisely the height of an individual men starting from known factors.\n",
    "\n",
    "We can't do that for individual, but we can say something more when more individuals are analyzed. Statistics is about populations (the total set of observations) and samples (a part of the existent samples), not about individuals. Thus when we talk about an individual we talk through the lenses of population. And because it's not precise we name it random.\n",
    "\n",
    "A random variable can be described in many ways, but all those formulations maps a potential interval of observable values with a probability. What we know when we have a random variable is a set of potential observable values and probability assigned with those values.\n",
    "\n",
    "#### 4.1.1 Normal distribution\n",
    "\n",
    "Normal or Gaussian distribution is perhaps the most known distribution. It is the distribution of the *bell shape*, even thought it is not unique among bell shaped distributions.\n",
    "\n",
    "The implementation of normal distribution lies in:`rapaio.core.distributions.Normal`.\n"
   ]
  },
  {
   "cell_type": "code",
   "execution_count": 9,
   "metadata": {
    "collapsed": true
   },
   "outputs": [],
   "source": [
    "// build a normal distribution with mean = 2, and standard deviation = 3\n",
    "Normal normal = Normal.of(2,3);"
   ]
  },
  {
   "cell_type": "markdown",
   "metadata": {},
   "source": [
    "Normal distribution defined by two independent parameters: mean and standard deviation. Mean tells us when is the center of the distribution and standard deviation is a measure of variability.\n",
    "\n",
    "We can generate a random sample from this distribution."
   ]
  },
  {
   "cell_type": "code",
   "execution_count": 10,
   "metadata": {},
   "outputs": [
    {
     "name": "stdout",
     "output_type": "stream",
     "text": [
      "> printSummary(var: x)\n",
      "name: x\n",
      "type: DOUBLE\n",
      "rows: 100, complete: 100, missing: 0\n",
      "   Min. : -5.722\n",
      "1st Qu. : -0.441\n",
      " Median :  2.040\n",
      "   Mean :  1.927\n",
      "2nd Qu. :  3.680\n",
      "   Max. : 11.254\n",
      "\n"
     ]
    }
   ],
   "source": [
    "RandomSource.setSeed(1);\n",
    "Var x = normal.sample(100).withName(\"x\");\n",
    "x.printSummary();"
   ]
  },
  {
   "cell_type": "markdown",
   "metadata": {
    "collapsed": true
   },
   "source": [
    "We can notice that the sample mean is $1.927$, which is close to the population mean, but not equal. This is as expected. Since we generated a set of random values we can't expect to have a sample mean identical with population mean. If we expect that than we can suspect the generated numbers are not random."
   ]
  },
  {
   "cell_type": "code",
   "execution_count": 11,
   "metadata": {},
   "outputs": [
    {
     "data": {
      "image/png": "[encoded data removed]",
      "text/plain": [
       "BufferedImage@27838c2a: type = 7 ColorModel: #pixelBits = 32 numComponents = 4 color space = java.awt.color.ICC_ColorSpace@76c8fccc transparency = 3 has alpha = true isAlphaPre = true ByteInterleavedRaster: width = 600 height = 400 #numDataElements 4 dataOff[0] = 3"
      ]
     },
     "execution_count": 11,
     "metadata": {},
     "output_type": "execute_result"
    }
   ],
   "source": [
    "WS.image(funLine(normal::pdf).xLim(-8, 12).yLim(0, 0.15));"
   ]
  },
  {
   "cell_type": "markdown",
   "metadata": {
    "collapsed": true
   },
   "source": [
    "We draw now a histogram built from the generated sample, and the distribution which was used to generate values:"
   ]
  },
  {
   "cell_type": "code",
   "execution_count": 12,
   "metadata": {},
   "outputs": [
    {
     "data": {
      "image/png": "[encoded data removed]",
      "text/plain": [
       "BufferedImage@66a9f585: type = 7 ColorModel: #pixelBits = 32 numComponents = 4 color space = java.awt.color.ICC_ColorSpace@76c8fccc transparency = 3 has alpha = true isAlphaPre = true ByteInterleavedRaster: width = 600 height = 400 #numDataElements 4 dataOff[0] = 3"
      ]
     },
     "execution_count": 12,
     "metadata": {},
     "output_type": "execute_result"
    }
   ],
   "source": [
    "WS.image(hist(x, prob(true), bins(20)).funLine(normal::pdf));"
   ]
  },
  {
   "cell_type": "markdown",
   "metadata": {},
   "source": [
    "#### 4.1.2 Student t distribution\n",
    "\n",
    "Student t distribution is one of the most important distributions related with normal distribution. You can interpret the t distribution as a normal distribution, with additional uncertainty in the variance parameter.\n",
    "\n",
    "Suppose that we are interested in the mean of a random sample normally distributed. If we know the mean and standard deviation of the population, than we could emply a z test. But often is the case where we do not know the standard deviation. What we can do? We can use a plug in estimated value for the standard deviation. The problem is that the estimated value of the standard deviation is not given anymore, it is not a given parameter of the population. Instead, it is an estimated value of that parameter, which implies the fact that it contains some error. This is the t distribution. \n",
    "\n",
    "Formally the t distribution can be described as:\n",
    "\n",
    "$$T = \\frac{Z}{\\sqrt{V / \\nu}}$$\n",
    "\n",
    "where $Z \\sim N(0,1)$, $V \\sim {\\chi}^2_\\nu $ and $Z$ and $V$ are independent.\n",
    "\n",
    "What is important to note here is that the degrees of freedom $\\nu$ does not depend on $\\mu$ or $\\sigma$, parameters of the original population. This is what makes this distribution important in practice.\n",
    "\n",
    "To increase the understanding of this intuition we will draw a normal distribution and several t distributions with various degrees of freedom."
   ]
  },
  {
   "cell_type": "code",
   "execution_count": 13,
   "metadata": {},
   "outputs": [
    {
     "data": {
      "image/png": "[encoded data removed]",
      "text/plain": [
       "BufferedImage@663e8614: type = 7 ColorModel: #pixelBits = 32 numComponents = 4 color space = java.awt.color.ICC_ColorSpace@76c8fccc transparency = 3 has alpha = true isAlphaPre = true ByteInterleavedRaster: width = 600 height = 400 #numDataElements 4 dataOff[0] = 3"
      ]
     },
     "execution_count": 13,
     "metadata": {},
     "output_type": "execute_result"
    }
   ],
   "source": [
    "Normal n = Normal.std();\n",
    "StudentT t1 = StudentT.of(1);\n",
    "StudentT t2 = StudentT.of(2);\n",
    "StudentT t10 = StudentT.of(10);\n",
    "StudentT t100 = StudentT.of(100);\n",
    "\n",
    "Plot p = funLine(n::pdf, color(1))\n",
    ".funLine(t1::pdf, color(2))\n",
    ".funLine(t2::pdf, color(3))\n",
    ".funLine(t10::pdf, color(4))\n",
    ".funLine(t100::pdf, color(5))\n",
    ".xLim(-10, 10).yLim(0, 0.45)\n",
    ".legend(3, 0.4, color(1, 2, 3, 4, 5), labels(\"normal\", \"t1\", \"t2\", \"t10\", \"t100\"));\n",
    "\n",
    "WS.image(p);"
   ]
  },
  {
   "cell_type": "markdown",
   "metadata": {},
   "source": [
    "Looking at the image above we see that the standard normal distribution has the highest value at $$0$$. We note also that the t distribution with 1 degree of freedom has the lowest value at $$0$$. As the degrees of freedom increases the value at $$0$$ increases as well.\n",
    "\n",
    "The reverse is true when we are looking for tails. The t with 1 degree of freedom has the fattest tail. This means that it have the highest uncertainty.\n",
    "\n",
    "To illustrate better the concept, we compute the 0.975 quantiles of those distributions:"
   ]
  },
  {
   "cell_type": "code",
   "execution_count": 15,
   "metadata": {},
   "outputs": [
    {
     "name": "stdout",
     "output_type": "stream",
     "text": [
      "                 distr                q0.975                    distr                q0.975   \n",
      "[0]              Normal(mu=0, sd=1)  1.959964  [3]   StudentT(df=2, mu=0, sigma=1)  4.3026527 \n",
      "[1] StudentT(df=100, mu=0, sigma=1)  1.9839715 [4]   StudentT(df=1, mu=0, sigma=1) 12.7062047 \n",
      "[2]  StudentT(df=10, mu=0, sigma=1)  2.2281389 \n",
      "\n"
     ]
    }
   ],
   "source": [
    "Normal n = Normal.std();\n",
    "StudentT t1 = StudentT.of(1);\n",
    "StudentT t2 = StudentT.of(2);\n",
    "StudentT t10 = StudentT.of(10);\n",
    "StudentT t100 = StudentT.of(100);\n",
    "\n",
    "Var dist = VarNominal.copy(n.name(), t100.name(), t10.name(),t2.name(), t1.name()).withName(\"distr\");\n",
    "Var p1 = VarDouble.copy(n.quantile(0.975), t100.quantile(0.975), t10.quantile(0.975), t2.quantile(0.975), \n",
    "t1.quantile(0.975)).withName(\"q0.975\");\n",
    "\n",
    "SolidFrame.byVars(dist, p1).printContent();"
   ]
  },
  {
   "cell_type": "markdown",
   "metadata": {},
   "source": [
    "We can see that if the degrees of freedom increases the quantiles decreases and is getting closer to the values of normal distribution. Often the degrees of freedom is computed from the sample size in one way or another. That means the t distribution is getting closer to a normal distribution if the sample is large. Often when we are dealing with samples of size over $100$ the t distribution gives almost the same results ad the normal distribution. As a consequence normal distribution can be used as an approximation if the sample size is large."
   ]
  },
  {
   "cell_type": "markdown",
   "metadata": {},
   "source": [
    "### 4.2 Core statistical tools\n",
    "\n",
    "**TODO**"
   ]
  },
  {
   "cell_type": "markdown",
   "metadata": {},
   "source": [
    "### 4.3 Hypothesis testing\n",
    "\n",
    "Rapaio library aims to contain an extensive set of alternatives for hypothesis testing. Right now there are available just some of them. Hypothesis testing an invaluable tool to answer questions when we are dealing with uncertainty.\n",
    "\n",
    "We deal with presenting hypothesis testing by following some examples.\n",
    "\n",
    "#### 4.3.1 Z tests\n",
    "\n",
    "Any hypothesis test which uses normal distribution for the computed statistic is named a z test. We should note that z tests needs to know standard deviations for the involved populations. It is accustomed that when the sample is large enough the value of the population standard deviation can be estimated from data. This is not implemented in library. For the case when one does not know the involved standard deviations one can use t tests.\n",
    "\n",
    "Note than because of this requirement, the z tests are rarely used. This is so because we rarely know the population parameters.\n",
    "\n",
    "##### Example 1: One sample z-test\n",
    "\n",
    "*Sue is in charge of Quality Control at a bottling facility (This example is taken from __[here](http://www.cliffsnotes.com/study-guides/statistics/univariate-inferential-tests/two-sample-z-test-for-comparing-two-means)__). She is checking the operation of a machine that should deliver 355 mL of liquid into an aluminum can. If the machine delivers too little, then the local Regulatory Agency may fine the company. If the machine delivers too much, then the company may lose money. For these reasons, Sue is looking for any evidence that the amount delivered by the machine is different from 355 mL.*\n",
    "\n",
    "During her investigation, Sue obtains a random sample of $10$ cans. She measures the following volumes:\n",
    "\n",
    "$355.02 355.47 353.01 355.93 356.66 355.98 353.74 354.96 353.81 355.79$\n",
    "\n",
    "The machine's specifications claim that the amount of liquid delivered varies according to a normal distribution, with mean $\\mu = 355mL$ and standard deviation $\\sigma = 0.05mL$.\n",
    "\n",
    "Do the data suggest that the machine is operating correctly?\n",
    "\n",
    "The null hypothesis is that the machine is operating according to its specifications; thus\n",
    "\n",
    "$$H_0 : μ = 355$$ \n",
    "\n",
    "$\\mu$ is the mean volume delivered by the machine. Sue is looking for evidence of any difference; thus, the alternate hypothesis is\n",
    "\n",
    "$$H_1 : \\mu \\neq 355$$\n",
    "\n",
    "Since the hypothesis concerns a single population mean and the population follows a normal distribution with known standard deviation, a z-test is appropriate.\n",
    "\n",
    "What we can do is to use *HTTools* facility which offers shortcut methods to all implemented hypothesis tests. One of them is one sample z test which enables one to test if the sample mean is far from the expected sample mean.\n"
   ]
  },
  {
   "cell_type": "code",
   "execution_count": 16,
   "metadata": {},
   "outputs": [
    {
     "name": "stdout",
     "output_type": "stream",
     "text": [
      "\n",
      "> HTTools.zTestOneSample\n",
      "\n",
      " One Sample z-test\n",
      "\n",
      "mean: 355\n",
      "sd: 0.05\n",
      "significance level: 0.05\n",
      "alternative hypothesis: two tails P > |z|\n",
      "\n",
      "sample size: 10\n",
      "sample mean: 355.037\n",
      "z score: 2.3400855\n",
      "p-value: 0.019279327322640594\n",
      "conf int: [355.0060102,355.0679898]\n",
      "\n"
     ]
    }
   ],
   "source": [
    "Var cans = VarDouble.copy(355.02, 355.47, 353.01, 355.93, 356.66, 355.98, 353.74, 354.96, 353.81, 355.79);\n",
    "// run the test and print results\n",
    "ZTestOneSample.test(cans, 355, 0.05).printSummary();"
   ]
  },
  {
   "cell_type": "markdown",
   "metadata": {},
   "source": [
    "The interpretation of the results is the following:\n",
    "\n",
    "* the z-score is $2.34$, which means that the computed sample mean is greater with more than 2 standard deviations\n",
    "* for critical level being $0.05$ and p-value $0.019$, we reject the null hypothesis that the mean volume delivered by the machine is equal with $355$\n",
    "\n",
    "**Note:** even if we know that the sample mean is greater than the proposed mean, we cannot propose this conclusion. The proper conclusion would be that *is different than $355$*.\n",
    "\n",
    "##### What if we ask if the machine produces more than standard specification?\n",
    "\n",
    "We deal with this question by changing the null hypothesis. Our hypotheses become:\n",
    "\n",
    "$$H_0 : \\mu \\leq 355$$\n",
    "\n",
    "$$H_1 \\geq 355$$\n",
    "\n",
    "Our code looks like:"
   ]
  },
  {
   "cell_type": "code",
   "execution_count": 17,
   "metadata": {},
   "outputs": [
    {
     "name": "stdout",
     "output_type": "stream",
     "text": [
      "\n",
      "> HTTools.zTestOneSample\n",
      "\n",
      " One Sample z-test\n",
      "\n",
      "mean: 355\n",
      "sd: 0.05\n",
      "significance level: 0.05\n",
      "alternative hypothesis: one tail P > z\n",
      "\n",
      "sample size: 10\n",
      "sample mean: 355.037\n",
      "z score: 2.3400855\n",
      "p-value: 0.009639663661320297\n",
      "conf int: [355.0060102,355.0679898]\n",
      "\n"
     ]
    }
   ],
   "source": [
    "ZTestOneSample.test(cans,\n",
    "355, /* mean */\n",
    "0.05, /* sd */\n",
    "0.05, /* significance level */\n",
    "HTest.Alternative.GREATER_THAN /* alternative */\n",
    ").printSummary();"
   ]
  },
  {
   "cell_type": "markdown",
   "metadata": {},
   "source": [
    "As expected the statistical power of this test is increased. As a consequence the p value was smaller and we still reject the null hypothesis. In this case we had an obvious case, when testing one side gave the same result as testing with two sides. I gave example just to help the user to pay attention to those kind of details."
   ]
  },
  {
   "cell_type": "markdown",
   "metadata": {},
   "source": [
    "#### Example 2: One sample z-test\n",
    "\n",
    "*A herd of $1500$ steer was fed a special high‐protein grain for a month. A random sample of $29$ were weighed and had gained an average of $6.7$ pounds. If the standard deviation of weight gain for the entire herd is $7.1$, test the hypothesis that the average weight gain per steer for the month was more than $5$ pounds. We have the following null and alternative hypothesis:*\n",
    "\n",
    "$$H_0 : \\mu = 5$$\n",
    "$$H_1 : \\mu > 5$$\n",
    "\n",
    "This example is adapted from __[here](https://en.wikibooks.org/wiki/Statistics/Testing_Data/z-tests#Is_The_Machine_Working_Correctly.3F)__"
   ]
  },
  {
   "cell_type": "code",
   "execution_count": 18,
   "metadata": {},
   "outputs": [
    {
     "name": "stdout",
     "output_type": "stream",
     "text": [
      "\n",
      "> HTTools.zTestOneSample\n",
      "\n",
      " One Sample z-test\n",
      "\n",
      "mean: 5\n",
      "sd: 7.1\n",
      "significance level: 0.05\n",
      "alternative hypothesis: one tail P > z\n",
      "\n",
      "sample size: 29\n",
      "sample mean: 6.7\n",
      "z score: 1.2894057\n",
      "p-value: 0.0986285477062051\n",
      "conf int: [4.1159112,9.2840888]\n",
      "\n"
     ]
    }
   ],
   "source": [
    "ZTestOneSample ztest = ZTestOneSample.test(\n",
    "6.7, /* sample mean */\n",
    "29, /* sample size */\n",
    "5, /* tested mean */\n",
    "7.1, /* population standard deviation */\n",
    "0.05, /* significance level */\n",
    "HTest.Alternative.GREATER_THAN /* alternative */\n",
    ");\n",
    "ztest.printSummary();"
   ]
  },
  {
   "cell_type": "markdown",
   "metadata": {},
   "source": [
    "P-value is greater than significance level which means that we cannot reject the null hypothesis. We don't have enough evidence.\n",
    "\n",
    "#### Example 3: Two samples z test\n",
    "\n",
    "*The amount of a certain trace element in blood is known to vary with a standard deviation of $14.1$ ppm (parts per million) for male blood donors and $9.5$ ppm for female donors. Random samples of $75$ male and $50$ female donors yield concentration means of $28$ and $33$ ppm, respectively. What is the likelihood that the population means of concentrations of the element are the same for men and women?*\n",
    "\n",
    "According with central limit theorem we can assume that the distribution of the sample mean is a normal distribution. More than that, since we have random samples, than the sample mean difference has a normal distribution. And because we know the standard deviation for each population, we can use a two sample z test for testing the difference of the sample means.\n",
    "\n",
    "$$H_0 : \\mu_1 - \\mu_2 = 0$$\n",
    "$$H_1 : \\mu_1 - \\mu_2 \\neq 0$$\n",
    "\n",
    "This example is taken from __[here](http://www.cliffsnotes.com/study-guides/statistics/univariate-inferential-tests/two-sample-z-test-for-comparing-two-means)__."
   ]
  },
  {
   "cell_type": "code",
   "execution_count": 19,
   "metadata": {},
   "outputs": [
    {
     "name": "stdout",
     "output_type": "stream",
     "text": [
      "\n",
      "> HTTools.zTestTwoSamples\n",
      "\n",
      " Two Samples z-test\n",
      "\n",
      "x sample mean: 28\n",
      "x sample size: 75\n",
      "y sample mean: 33\n",
      "y sample size: 50\n",
      "mean: 0\n",
      "x sd: 14.1\n",
      "y sd: 9.5\n",
      "significance level: 0.05\n",
      "alternative hypothesis: two tails P > |z|\n",
      "\n",
      "sample mean: -5\n",
      "z score: -2.3686842\n",
      "p-value: 0.017851489594360337\n",
      "conf int: [-9.1372421,-0.8627579]\n",
      "\n"
     ]
    }
   ],
   "source": [
    "ZTestTwoSamples.test(\n",
    "28, 75, /* male sample mean and size */\n",
    "33, 50, /* female sample mean and size */\n",
    "0, /* difference of means */\n",
    "14.1, 9.5 /* standard deviations */\n",
    ").printSummary();"
   ]
  },
  {
   "cell_type": "markdown",
   "metadata": {},
   "source": [
    "The test run with $0.05$ significance level (because it was a default value). The alternative is two tails since we test for difference in means not equal with zero. The resulted p-value is lower than the significance value which means that we reject the hypothesis that the two populations have the same mean. We can see that also from confidence interval, since it does not include $0$.\n",
    "\n",
    "**Note:** If we would considered a significance level of $0.01$ than we would not be able to reject the null hypothesis."
   ]
  },
  {
   "cell_type": "markdown",
   "metadata": {},
   "source": [
    "#### 4.3.2 T tests\n",
    "\n",
    "T tests are similar with z tests. Both tests uses a statistic which has a normal distribution. A z test is used when one knows standard deviations. A t test is used when the standard deviation is estimated from data. Note that when the sample size is large enough, both tests gives virtually identical results, since the t distributions converges to a normal distribution when the sample increases.\n",
    "\n",
    "##### Example 4:\n",
    "\n",
    "*A baseball team coach wants to know if his team is significantly different than other teams in the league in scoring runs. Nationally, the average number of score runs is 5.7. He peek randomly five games which happen to have scores: 8, 9, 4, 10 and 8.*\n",
    "\n",
    "The coach is looking to see if the average number of scores for his team is different than the national average, which is given. We can assume the sample is normally distributed. A z test would be fine under those conditions, but we do not know the national standard deviations. We have to estimate that from sample. Thus a t test is proper in this case, especially because the sample is so small. We fix the significance level at $0.05$ and choose the two tail version of the test since we are interested in testing the equality."
   ]
  },
  {
   "cell_type": "code",
   "execution_count": 20,
   "metadata": {},
   "outputs": [
    {
     "name": "stdout",
     "output_type": "stream",
     "text": [
      "\n",
      "> TTestOneSample\n",
      "\n",
      " One Sample t-test\n",
      "\n",
      "mean: 5.7\n",
      "significance level: 0.05\n",
      "alternative hypothesis: two tails P > |z|\n",
      "\n",
      "sample size: 5\n",
      "sample mean: 7.8\n",
      "sample sd: 2.2803509\n",
      "df: 4\n",
      "t: 2.0592194\n",
      "p-value: 0.10854860356776591\n",
      "conf int: [4.9685704,10.6314296]\n",
      "\n"
     ]
    }
   ],
   "source": [
    "Var x = VarDouble.copy(8, 9, 4, 10, 8).withName(\"x\");\n",
    "TTestOneSample.test(x, 5.7).printSummary();"
   ]
  },
  {
   "cell_type": "markdown",
   "metadata": {},
   "source": [
    "The p-value is greater that significance level, so we fail to reject the test.\n",
    "\n",
    "What if we would estimate the sample standard deviation directly from the sample and we would than use a z test? Let's see."
   ]
  },
  {
   "cell_type": "code",
   "execution_count": 21,
   "metadata": {},
   "outputs": [
    {
     "name": "stdout",
     "output_type": "stream",
     "text": [
      "\n",
      "> HTTools.zTestOneSample\n",
      "\n",
      " One Sample z-test\n",
      "\n",
      "mean: 5.7\n",
      "sd: 2.2803509\n",
      "significance level: 0.05\n",
      "alternative hypothesis: two tails P > |z|\n",
      "\n",
      "sample size: 5\n",
      "sample mean: 7.8\n",
      "z score: 2.0592194\n",
      "p-value: 0.03947322372463613\n",
      "conf int: [5.8012211,9.7987789]\n",
      "\n"
     ]
    }
   ],
   "source": [
    "Var x = VarDouble.copy(8, 9, 4, 10, 8).withName(\"x\");\n",
    "ZTestOneSample.test(x, 5.7, Variance.of(x).sdValue()).printSummary();"
   ]
  },
  {
   "cell_type": "markdown",
   "metadata": {},
   "source": [
    "According with this test the mean score of the team is different than the national average. This is an illustration failed application of central limit theorem fails with small number of observations. The t test was built to incorporate the unknown in estimating the variance. Thus we increase the need to provide stronger evidence to reject the null hypothesis."
   ]
  },
  {
   "cell_type": "markdown",
   "metadata": {},
   "source": []
  }
 ],
 "metadata": {
  "kernelspec": {
   "display_name": "Java",
   "language": "java",
   "name": "java"
  },
  "language_info": {
   "codemirror_mode": "java",
   "file_extension": ".jshell",
   "mimetype": "text/x-java-source",
   "name": "Java",
   "pygments_lexer": "java",
   "version": "11.0.2+9-LTS"
  }
 },
 "nbformat": 4,
 "nbformat_minor": 2
}
