{
 "cells": [
  {
   "cell_type": "code",
   "execution_count": 2,
   "metadata": {},
   "outputs": [],
   "source": [
    "%jars /home/ati/work/out/artifacts/rapaio_jar/rapaio.jar /home/ati/work/out/artifacts/rapaio_jar/fastutil-8.2.1.jar"
   ]
  },
  {
   "cell_type": "code",
   "execution_count": 4,
   "metadata": {},
   "outputs": [],
   "source": [
    "import rapaio.datasets.Datasets;\n",
    "import rapaio.data.*;\n"
   ]
  },
  {
   "cell_type": "code",
   "execution_count": 5,
   "metadata": {},
   "outputs": [],
   "source": [
    "Frame df = Datasets.loadIrisDataset();\n"
   ]
  },
  {
   "cell_type": "code",
   "execution_count": 6,
   "metadata": {},
   "outputs": [
    {
     "name": "stdout",
     "output_type": "stream",
     "text": [
      "Frame Summary\n",
      "=============\n",
      "* rowCount: 150\n",
      "* complete: 150/150\n",
      "* varCount: 5\n",
      "* varNames: \n",
      "\n",
      " 0. sepal-length : double | 1. sepal-width : double | 2. petal-length : double | 3. petal-width : double | 4. class : nominal |     \n",
      "\n",
      "   sepal-length      sepal-width     petal-length      petal-width            class \n",
      "   Min. : 4.300     Min. : 2.000     Min. : 1.000     Min. : 0.100      setosa : 50 \n",
      "1st Qu. : 5.100  1st Qu. : 2.800  1st Qu. : 1.600  1st Qu. : 0.300  versicolor : 50 \n",
      " Median : 5.800   Median : 3.000   Median : 4.350   Median : 1.300   virginica : 50 \n",
      "   Mean : 5.843     Mean : 3.057     Mean : 3.758     Mean : 1.199                  \n",
      "2nd Qu. : 6.400  2nd Qu. : 3.300  2nd Qu. : 5.100  2nd Qu. : 1.800                  \n",
      "   Max. : 7.900     Max. : 4.400     Max. : 6.900     Max. : 2.500                  \n",
      "                                                                                    \n"
     ]
    }
   ],
   "source": [
    "df.printSummary()"
   ]
  },
  {
   "cell_type": "code",
   "execution_count": null,
   "metadata": {},
   "outputs": [],
   "source": []
  }
 ],
 "metadata": {
  "kernelspec": {
   "display_name": "Java",
   "language": "java",
   "name": "java"
  },
  "language_info": {
   "codemirror_mode": "java",
   "file_extension": ".java",
   "mimetype": "text/x-java-source",
   "name": "Java",
   "pygments_lexer": "java",
   "version": "10.0.2+13"
  }
 },
 "nbformat": 4,
 "nbformat_minor": 2
}
